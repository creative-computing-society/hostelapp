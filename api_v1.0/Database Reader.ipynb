{
 "cells": [
  {
   "cell_type": "code",
   "execution_count": 1,
   "metadata": {},
   "outputs": [],
   "source": [
    "import pandas as pd\n",
    "import sqlite3"
   ]
  },
  {
   "cell_type": "code",
   "execution_count": 21,
   "metadata": {},
   "outputs": [
    {
     "data": {
      "text/html": [
       "<div>\n",
       "<style scoped>\n",
       "    .dataframe tbody tr th:only-of-type {\n",
       "        vertical-align: middle;\n",
       "    }\n",
       "\n",
       "    .dataframe tbody tr th {\n",
       "        vertical-align: top;\n",
       "    }\n",
       "\n",
       "    .dataframe thead th {\n",
       "        text-align: right;\n",
       "    }\n",
       "</style>\n",
       "<table border=\"1\" class=\"dataframe\">\n",
       "  <thead>\n",
       "    <tr style=\"text-align: right;\">\n",
       "      <th></th>\n",
       "      <th>id</th>\n",
       "      <th>week</th>\n",
       "      <th>hostel_name</th>\n",
       "      <th>sunday</th>\n",
       "      <th>monday</th>\n",
       "      <th>tuesday</th>\n",
       "      <th>wednesday</th>\n",
       "      <th>thursday</th>\n",
       "      <th>friday</th>\n",
       "      <th>saturday</th>\n",
       "      <th>hostel_id</th>\n",
       "    </tr>\n",
       "  </thead>\n",
       "  <tbody>\n",
       "    <tr>\n",
       "      <th>0</th>\n",
       "      <td>1</td>\n",
       "      <td>1</td>\n",
       "      <td>H</td>\n",
       "      <td>8:00 AM - 10:00 PM::Bread, Tea, Coffee, Pranth...</td>\n",
       "      <td>7:00 AM - 9:00 AM::Bread, Tea, Coffee, Prantha...</td>\n",
       "      <td>7:00 AM - 9:00 AM::Bread, Tea, Coffee, Prantha...</td>\n",
       "      <td>7:00 AM - 9:00 AM::Bread, Tea, Coffee, Prantha...</td>\n",
       "      <td>7:00 AM - 9:00 AM::Bread, Tea, Coffee, Prantha...</td>\n",
       "      <td>7:00 AM - 9:00 AM::Bread, Tea, Coffee, Prantha...</td>\n",
       "      <td>8:00 AM - 10:00 AM::Bread, Tea, Coffee, Pranth...</td>\n",
       "      <td>None</td>\n",
       "    </tr>\n",
       "  </tbody>\n",
       "</table>\n",
       "</div>"
      ],
      "text/plain": [
       "   id  week hostel_name                                             sunday  \\\n",
       "0   1     1           H  8:00 AM - 10:00 PM::Bread, Tea, Coffee, Pranth...   \n",
       "\n",
       "                                              monday  \\\n",
       "0  7:00 AM - 9:00 AM::Bread, Tea, Coffee, Prantha...   \n",
       "\n",
       "                                             tuesday  \\\n",
       "0  7:00 AM - 9:00 AM::Bread, Tea, Coffee, Prantha...   \n",
       "\n",
       "                                           wednesday  \\\n",
       "0  7:00 AM - 9:00 AM::Bread, Tea, Coffee, Prantha...   \n",
       "\n",
       "                                            thursday  \\\n",
       "0  7:00 AM - 9:00 AM::Bread, Tea, Coffee, Prantha...   \n",
       "\n",
       "                                              friday  \\\n",
       "0  7:00 AM - 9:00 AM::Bread, Tea, Coffee, Prantha...   \n",
       "\n",
       "                                            saturday hostel_id  \n",
       "0  8:00 AM - 10:00 AM::Bread, Tea, Coffee, Pranth...      None  "
      ]
     },
     "execution_count": 21,
     "metadata": {},
     "output_type": "execute_result"
    }
   ],
   "source": [
    "conn = sqlite3.connect('data.sqlite')\n",
    "query = \"SELECT * FROM mess_menus;\"\n",
    " \n",
    "df = pd.read_sql_query(query,conn)\n",
    "df"
   ]
  },
  {
   "cell_type": "code",
   "execution_count": null,
   "metadata": {},
   "outputs": [],
   "source": []
  },
  {
   "cell_type": "code",
   "execution_count": null,
   "metadata": {},
   "outputs": [],
   "source": []
  }
 ],
 "metadata": {
  "kernelspec": {
   "display_name": "Python 3",
   "language": "python",
   "name": "python3"
  },
  "language_info": {
   "codemirror_mode": {
    "name": "ipython",
    "version": 3
   },
   "file_extension": ".py",
   "mimetype": "text/x-python",
   "name": "python",
   "nbconvert_exporter": "python",
   "pygments_lexer": "ipython3",
   "version": "3.7.2"
  }
 },
 "nbformat": 4,
 "nbformat_minor": 2
}
