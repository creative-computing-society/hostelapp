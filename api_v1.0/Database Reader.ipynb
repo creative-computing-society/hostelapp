{
 "cells": [
  {
   "cell_type": "code",
   "execution_count": 1,
   "metadata": {},
   "outputs": [],
   "source": [
    "import pandas as pd\n",
    "import sqlite3\n",
    " \n"
   ]
  },
  {
   "cell_type": "code",
   "execution_count": 4,
   "metadata": {},
   "outputs": [
    {
     "data": {
      "text/html": [
       "<div>\n",
       "<style scoped>\n",
       "    .dataframe tbody tr th:only-of-type {\n",
       "        vertical-align: middle;\n",
       "    }\n",
       "\n",
       "    .dataframe tbody tr th {\n",
       "        vertical-align: top;\n",
       "    }\n",
       "\n",
       "    .dataframe thead th {\n",
       "        text-align: right;\n",
       "    }\n",
       "</style>\n",
       "<table border=\"1\" class=\"dataframe\">\n",
       "  <thead>\n",
       "    <tr style=\"text-align: right;\">\n",
       "      <th></th>\n",
       "      <th>id</th>\n",
       "      <th>name</th>\n",
       "      <th>warden</th>\n",
       "      <th>caretaker</th>\n",
       "      <th>mess_members</th>\n",
       "      <th>student_representatives</th>\n",
       "    </tr>\n",
       "  </thead>\n",
       "  <tbody>\n",
       "    <tr>\n",
       "      <th>0</th>\n",
       "      <td>1</td>\n",
       "      <td>H</td>\n",
       "      <td>ABC</td>\n",
       "      <td>ABC</td>\n",
       "      <td>Mankaran Singh::Udhbav Oberoi</td>\n",
       "      <td>Mankaran Singh::Udhbav Oberoi::Nikhil</td>\n",
       "    </tr>\n",
       "    <tr>\n",
       "      <th>1</th>\n",
       "      <td>2</td>\n",
       "      <td>B</td>\n",
       "      <td>ABC</td>\n",
       "      <td>ABC</td>\n",
       "      <td>Mankaran Singh::Udhbav Oberoi</td>\n",
       "      <td>Mankaran Singh::Udhbav Oberoi::Nikhil</td>\n",
       "    </tr>\n",
       "  </tbody>\n",
       "</table>\n",
       "</div>"
      ],
      "text/plain": [
       "   id name warden caretaker                   mess_members  \\\n",
       "0   1    H    ABC       ABC  Mankaran Singh::Udhbav Oberoi   \n",
       "1   2    B    ABC       ABC  Mankaran Singh::Udhbav Oberoi   \n",
       "\n",
       "                 student_representatives  \n",
       "0  Mankaran Singh::Udhbav Oberoi::Nikhil  \n",
       "1  Mankaran Singh::Udhbav Oberoi::Nikhil  "
      ]
     },
     "execution_count": 4,
     "metadata": {},
     "output_type": "execute_result"
    }
   ],
   "source": [
    "conn = sqlite3.connect('data.sqlite')\n",
    "query = \"SELECT * FROM hostels;\"\n",
    " \n",
    "df = pd.read_sql_query(query,conn)\n",
    "df"
   ]
  },
  {
   "cell_type": "code",
   "execution_count": null,
   "metadata": {},
   "outputs": [],
   "source": []
  },
  {
   "cell_type": "code",
   "execution_count": null,
   "metadata": {},
   "outputs": [],
   "source": []
  }
 ],
 "metadata": {
  "kernelspec": {
   "display_name": "Python 3",
   "language": "python",
   "name": "python3"
  },
  "language_info": {
   "codemirror_mode": {
    "name": "ipython",
    "version": 3
   },
   "file_extension": ".py",
   "mimetype": "text/x-python",
   "name": "python",
   "nbconvert_exporter": "python",
   "pygments_lexer": "ipython3",
   "version": "3.7.1"
  }
 },
 "nbformat": 4,
 "nbformat_minor": 2
}
